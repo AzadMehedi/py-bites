{
  "nbformat": 4,
  "nbformat_minor": 0,
  "metadata": {
    "colab": {
      "provenance": [],
      "authorship_tag": "ABX9TyOJ+5/cJtmiHOzVn5wt0PtQ",
      "include_colab_link": true
    },
    "kernelspec": {
      "name": "python3",
      "display_name": "Python 3"
    },
    "language_info": {
      "name": "python"
    }
  },
  "cells": [
    {
      "cell_type": "markdown",
      "metadata": {
        "id": "view-in-github",
        "colab_type": "text"
      },
      "source": [
        "<a href=\"https://colab.research.google.com/github/AzadMehedi/py-bites/blob/main/zip_function.ipynb\" target=\"_parent\"><img src=\"https://colab.research.google.com/assets/colab-badge.svg\" alt=\"Open In Colab\"/></a>"
      ]
    },
    {
      "cell_type": "markdown",
      "source": [
        "# Using `zip()` function with for loop in python"
      ],
      "metadata": {
        "id": "5o_B7rjNli63"
      }
    },
    {
      "cell_type": "code",
      "source": [
        "names = ['Mehedi','Azad','Evan','Nafis']\n",
        "ages = [23,24,27,25]\n",
        "\n",
        "# Zip the name and ages iterables together\n",
        "for name, age in zip(names, ages):\n",
        "  print(f'{name} is {age} years old.')"
      ],
      "metadata": {
        "colab": {
          "base_uri": "https://localhost:8080/"
        },
        "id": "89JBVb1tlmqA",
        "outputId": "e11a1daf-aa05-41fd-efd1-73948df0323a"
      },
      "execution_count": 1,
      "outputs": [
        {
          "output_type": "stream",
          "name": "stdout",
          "text": [
            "Mehedi is 23 years old.\n",
            "Azad is 24 years old.\n",
            "Evan is 27 years old.\n",
            "Nafis is 25 years old.\n"
          ]
        }
      ]
    }
  ]
}